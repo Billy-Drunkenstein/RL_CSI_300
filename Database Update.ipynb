{
 "cells": [
  {
   "cell_type": "code",
   "execution_count": 2,
   "id": "0a6fc599-f42a-4f31-9d6e-a68edc367e72",
   "metadata": {},
   "outputs": [
    {
     "name": "stdout",
     "output_type": "stream",
     "text": [
      "Welcome to use Wind Quant API for Python (WindPy)!\n",
      "\n",
      "COPYRIGHT (C) 2024 WIND INFORMATION CO., LTD. ALL RIGHTS RESERVED.\n",
      "IN NO CIRCUMSTANCE SHALL WIND BE RESPONSIBLE FOR ANY DAMAGES OR LOSSES CAUSED BY USING WIND QUANT API FOR Python.\n"
     ]
    },
    {
     "data": {
      "text/plain": [
       "True"
      ]
     },
     "execution_count": 2,
     "metadata": {},
     "output_type": "execute_result"
    }
   ],
   "source": [
    "from WindPy import w\n",
    "import numpy as np\n",
    "import pandas as pd\n",
    "import csv\n",
    "import datetime\n",
    "from datetime import datetime as dates\n",
    "from datetime import timedelta\n",
    "import json\n",
    "import os\n",
    "\n",
    "w.start()\n",
    "w.isconnected()"
   ]
  },
  {
   "cell_type": "code",
   "execution_count": 63,
   "id": "703d762f-f275-4db8-9107-2eb7e59bd815",
   "metadata": {},
   "outputs": [
    {
     "data": {
      "text/plain": [
       "1"
      ]
     },
     "execution_count": 63,
     "metadata": {},
     "output_type": "execute_result"
    }
   ],
   "source": [
    "with open('Index List.json', 'r') as f:\n",
    "    INDEXES = json.load(f)\n",
    "\n",
    "with open('Index Start.json', 'r') as f:\n",
    "    INDEX_START = json.load(f)\n",
    "    \n",
    "INDEX_DATA = {}\n",
    "\n",
    "for ticker in INDEX_START:\n",
    "    path = f\"Data/{ticker}.csv\"\n",
    "    \n",
    "    if os.path.isfile(path): \n",
    "        data = pd.read_csv(path, index_col = 0, parse_dates = True)\n",
    "        data.index = pd.to_datetime(data.index, format=\"%Y-%m-%d\", errors='coerce')\n",
    "        data.index = data.index.date\n",
    "        INDEX_DATA[ticker] = data.copy(deep = True)\n",
    "        \n",
    "len(INDEX_DATA)"
   ]
  },
  {
   "cell_type": "code",
   "execution_count": 46,
   "id": "527919a4-c053-4f7e-833d-427edff512c9",
   "metadata": {},
   "outputs": [
    {
     "data": {
      "text/plain": [
       "datetime.date(2025, 5, 18)"
      ]
     },
     "execution_count": 46,
     "metadata": {},
     "output_type": "execute_result"
    }
   ],
   "source": [
    "today = \"2025-05-18\"\n",
    "today_date = datetime.datetime.strptime(today, \"%Y-%m-%d\").date()\n",
    "today_date"
   ]
  },
  {
   "cell_type": "code",
   "execution_count": 74,
   "id": "c469acab-3379-45bf-93d7-57a4233554c4",
   "metadata": {},
   "outputs": [
    {
     "data": {
      "text/plain": [
       "datetime.date(2024, 11, 20)"
      ]
     },
     "execution_count": 74,
     "metadata": {},
     "output_type": "execute_result"
    }
   ],
   "source": [
    "ticker = '000300.SH'\n",
    "INDEX_DATA[ticker].index[-1]"
   ]
  },
  {
   "cell_type": "markdown",
   "id": "0bcd3702-4728-435d-be81-180f96f9f0e1",
   "metadata": {},
   "source": [
    "# Update Existing Tickers"
   ]
  },
  {
   "cell_type": "code",
   "execution_count": 52,
   "id": "b7627a13-83ed-4f00-9800-af0e72d094eb",
   "metadata": {},
   "outputs": [],
   "source": [
    "params = \"\"\"open,high,low,close,vwap,volume,amt,turn,\n",
    "            total_shares,free_float_shares,mkt_cap_ard,mkt_freeshares,\n",
    "            pe_ttm,val_pb_wgt,dividendyield2\"\"\"\n",
    "\n",
    "ticker = '000300.SH'\n",
    "\n",
    "data = INDEX_DATA[ticker]\n",
    "\n",
    "start = data.index[-1].strftime(\"%Y-%m-%d\")\n",
    "\n",
    "new_data = w.wsd(ticker, params, start, today, '', usedf = True)[1]"
   ]
  },
  {
   "cell_type": "code",
   "execution_count": 64,
   "id": "a2c23b79-f38a-4a29-aa5d-101e11d85a2d",
   "metadata": {},
   "outputs": [],
   "source": [
    "data = pd.concat([data, new_data]).groupby(level=0).last()\n",
    "data.index = pd.to_datetime(data.index, format=\"%Y-%m-%d\", errors='coerce')\n",
    "data.index = data.index.date\n",
    "data = data[~data.index.duplicated(keep=\"last\")]"
   ]
  },
  {
   "cell_type": "code",
   "execution_count": 27,
   "id": "cfb51f1a-ce20-47ba-96ff-247e2060c353",
   "metadata": {},
   "outputs": [
    {
     "name": "stdout",
     "output_type": "stream",
     "text": [
      "False\n"
     ]
    }
   ],
   "source": [
    "print(temp.index.duplicated().any())"
   ]
  },
  {
   "cell_type": "code",
   "execution_count": 28,
   "id": "1db963b2-8e02-49f3-bb34-61cbe451f1c0",
   "metadata": {},
   "outputs": [],
   "source": [
    "temp = pd.concat([data, new_data]).groupby(level=0).last()\n",
    "temp.index = pd.to_datetime(temp.index, format=\"%Y-%m-%d\", errors='coerce')\n",
    "temp.index = temp.index.date\n",
    "# temp = temp[~temp.index.duplicated(keep=\"last\")]"
   ]
  },
  {
   "cell_type": "code",
   "execution_count": 29,
   "id": "27726413-6323-41b6-81bb-e7ab9e2be961",
   "metadata": {},
   "outputs": [
    {
     "name": "stdout",
     "output_type": "stream",
     "text": [
      "False\n"
     ]
    }
   ],
   "source": [
    "print(temp.index.duplicated().any())"
   ]
  },
  {
   "cell_type": "code",
   "execution_count": 56,
   "id": "3513629e-c7fc-4ccc-b545-7ae9e383b91c",
   "metadata": {},
   "outputs": [
    {
     "data": {
      "text/html": [
       "<div>\n",
       "<style scoped>\n",
       "    .dataframe tbody tr th:only-of-type {\n",
       "        vertical-align: middle;\n",
       "    }\n",
       "\n",
       "    .dataframe tbody tr th {\n",
       "        vertical-align: top;\n",
       "    }\n",
       "\n",
       "    .dataframe thead th {\n",
       "        text-align: right;\n",
       "    }\n",
       "</style>\n",
       "<table border=\"1\" class=\"dataframe\">\n",
       "  <thead>\n",
       "    <tr style=\"text-align: right;\">\n",
       "      <th></th>\n",
       "      <th>OPEN</th>\n",
       "      <th>HIGH</th>\n",
       "      <th>LOW</th>\n",
       "      <th>CLOSE</th>\n",
       "      <th>VWAP</th>\n",
       "      <th>VOLUME</th>\n",
       "      <th>AMT</th>\n",
       "      <th>TURN</th>\n",
       "      <th>TOTAL_SHARES</th>\n",
       "      <th>FREE_FLOAT_SHARES</th>\n",
       "      <th>MKT_CAP_ARD</th>\n",
       "      <th>MKT_FREESHARES</th>\n",
       "      <th>PE_TTM</th>\n",
       "      <th>VAL_PB_WGT</th>\n",
       "      <th>DIVIDENDYIELD2</th>\n",
       "    </tr>\n",
       "  </thead>\n",
       "  <tbody>\n",
       "    <tr>\n",
       "      <th>2024-11-15</th>\n",
       "      <td>4025.6482</td>\n",
       "      <td>4049.0710</td>\n",
       "      <td>3968.8308</td>\n",
       "      <td>3968.8308</td>\n",
       "      <td>19.162519</td>\n",
       "      <td>2.473995e+10</td>\n",
       "      <td>4.740797e+11</td>\n",
       "      <td>0.7825</td>\n",
       "      <td>4.176265e+12</td>\n",
       "      <td>1.081900e+12</td>\n",
       "      <td>5.601519e+13</td>\n",
       "      <td>1.841688e+13</td>\n",
       "      <td>12.6125</td>\n",
       "      <td>1.3398</td>\n",
       "      <td>2.9679</td>\n",
       "    </tr>\n",
       "    <tr>\n",
       "      <th>2024-11-18</th>\n",
       "      <td>3982.1036</td>\n",
       "      <td>4034.0596</td>\n",
       "      <td>3931.1872</td>\n",
       "      <td>3950.3806</td>\n",
       "      <td>15.399023</td>\n",
       "      <td>3.067779e+10</td>\n",
       "      <td>4.724081e+11</td>\n",
       "      <td>0.9700</td>\n",
       "      <td>4.176301e+12</td>\n",
       "      <td>1.082255e+12</td>\n",
       "      <td>5.606742e+13</td>\n",
       "      <td>1.833053e+13</td>\n",
       "      <td>12.6243</td>\n",
       "      <td>1.3411</td>\n",
       "      <td>2.9685</td>\n",
       "    </tr>\n",
       "    <tr>\n",
       "      <th>2024-11-19</th>\n",
       "      <td>3954.6038</td>\n",
       "      <td>3979.1505</td>\n",
       "      <td>3896.7493</td>\n",
       "      <td>3976.8912</td>\n",
       "      <td>16.572004</td>\n",
       "      <td>2.429465e+10</td>\n",
       "      <td>4.026110e+11</td>\n",
       "      <td>0.7682</td>\n",
       "      <td>4.176399e+12</td>\n",
       "      <td>1.082352e+12</td>\n",
       "      <td>5.620348e+13</td>\n",
       "      <td>1.846109e+13</td>\n",
       "      <td>12.6549</td>\n",
       "      <td>1.3443</td>\n",
       "      <td>2.9584</td>\n",
       "    </tr>\n",
       "    <tr>\n",
       "      <th>2024-11-20</th>\n",
       "      <td>3966.1238</td>\n",
       "      <td>4001.0847</td>\n",
       "      <td>3958.3383</td>\n",
       "      <td>3985.7727</td>\n",
       "      <td>18.828758</td>\n",
       "      <td>1.845994e+10</td>\n",
       "      <td>3.475777e+11</td>\n",
       "      <td>0.5837</td>\n",
       "      <td>4.176399e+12</td>\n",
       "      <td>1.082413e+12</td>\n",
       "      <td>5.629713e+13</td>\n",
       "      <td>1.909953e+13</td>\n",
       "      <td>12.6760</td>\n",
       "      <td>1.3465</td>\n",
       "      <td>2.9522</td>\n",
       "    </tr>\n",
       "    <tr>\n",
       "      <th>2024-11-21</th>\n",
       "      <td>3979.4554</td>\n",
       "      <td>3999.5693</td>\n",
       "      <td>3966.0658</td>\n",
       "      <td>3989.2979</td>\n",
       "      <td>19.517424</td>\n",
       "      <td>1.661259e+10</td>\n",
       "      <td>3.242350e+11</td>\n",
       "      <td>0.5253</td>\n",
       "      <td>4.176406e+12</td>\n",
       "      <td>1.082398e+12</td>\n",
       "      <td>5.630960e+13</td>\n",
       "      <td>1.911438e+13</td>\n",
       "      <td>12.6788</td>\n",
       "      <td>1.3469</td>\n",
       "      <td>2.9544</td>\n",
       "    </tr>\n",
       "    <tr>\n",
       "      <th>2024-11-22</th>\n",
       "      <td>3984.2435</td>\n",
       "      <td>3990.2647</td>\n",
       "      <td>3865.6989</td>\n",
       "      <td>3865.6989</td>\n",
       "      <td>18.381550</td>\n",
       "      <td>2.162858e+10</td>\n",
       "      <td>3.975668e+11</td>\n",
       "      <td>0.6838</td>\n",
       "      <td>4.176564e+12</td>\n",
       "      <td>1.082557e+12</td>\n",
       "      <td>5.479193e+13</td>\n",
       "      <td>1.852963e+13</td>\n",
       "      <td>12.3371</td>\n",
       "      <td>1.3105</td>\n",
       "      <td>3.0421</td>\n",
       "    </tr>\n",
       "    <tr>\n",
       "      <th>2024-11-25</th>\n",
       "      <td>3875.6126</td>\n",
       "      <td>3889.7069</td>\n",
       "      <td>3812.3179</td>\n",
       "      <td>3848.0909</td>\n",
       "      <td>18.301068</td>\n",
       "      <td>1.907030e+10</td>\n",
       "      <td>3.490068e+11</td>\n",
       "      <td>0.6029</td>\n",
       "      <td>4.176564e+12</td>\n",
       "      <td>1.083107e+12</td>\n",
       "      <td>5.464003e+13</td>\n",
       "      <td>1.844328e+13</td>\n",
       "      <td>12.3029</td>\n",
       "      <td>1.3070</td>\n",
       "      <td>3.0468</td>\n",
       "    </tr>\n",
       "    <tr>\n",
       "      <th>2024-11-26</th>\n",
       "      <td>3836.2590</td>\n",
       "      <td>3875.2290</td>\n",
       "      <td>3833.2842</td>\n",
       "      <td>3840.1847</td>\n",
       "      <td>17.639532</td>\n",
       "      <td>1.498924e+10</td>\n",
       "      <td>2.644033e+11</td>\n",
       "      <td>0.4739</td>\n",
       "      <td>4.176564e+12</td>\n",
       "      <td>1.083104e+12</td>\n",
       "      <td>5.469686e+13</td>\n",
       "      <td>1.840698e+13</td>\n",
       "      <td>12.3157</td>\n",
       "      <td>1.3084</td>\n",
       "      <td>3.0472</td>\n",
       "    </tr>\n",
       "    <tr>\n",
       "      <th>2024-11-27</th>\n",
       "      <td>3829.3442</td>\n",
       "      <td>3907.1640</td>\n",
       "      <td>3817.9125</td>\n",
       "      <td>3907.0447</td>\n",
       "      <td>18.412745</td>\n",
       "      <td>1.741361e+10</td>\n",
       "      <td>3.206324e+11</td>\n",
       "      <td>0.5506</td>\n",
       "      <td>4.176606e+12</td>\n",
       "      <td>1.082974e+12</td>\n",
       "      <td>5.551373e+13</td>\n",
       "      <td>1.872933e+13</td>\n",
       "      <td>12.4996</td>\n",
       "      <td>1.3278</td>\n",
       "      <td>2.9998</td>\n",
       "    </tr>\n",
       "    <tr>\n",
       "      <th>2024-11-28</th>\n",
       "      <td>3904.2525</td>\n",
       "      <td>3908.3918</td>\n",
       "      <td>3866.0136</td>\n",
       "      <td>3872.5505</td>\n",
       "      <td>19.080605</td>\n",
       "      <td>1.501173e+10</td>\n",
       "      <td>2.864329e+11</td>\n",
       "      <td>0.4746</td>\n",
       "      <td>4.176610e+12</td>\n",
       "      <td>1.082977e+12</td>\n",
       "      <td>5.510042e+13</td>\n",
       "      <td>1.857137e+13</td>\n",
       "      <td>12.4066</td>\n",
       "      <td>1.3180</td>\n",
       "      <td>3.0338</td>\n",
       "    </tr>\n",
       "  </tbody>\n",
       "</table>\n",
       "</div>"
      ],
      "text/plain": [
       "                 OPEN       HIGH        LOW      CLOSE       VWAP  \\\n",
       "2024-11-15  4025.6482  4049.0710  3968.8308  3968.8308  19.162519   \n",
       "2024-11-18  3982.1036  4034.0596  3931.1872  3950.3806  15.399023   \n",
       "2024-11-19  3954.6038  3979.1505  3896.7493  3976.8912  16.572004   \n",
       "2024-11-20  3966.1238  4001.0847  3958.3383  3985.7727  18.828758   \n",
       "2024-11-21  3979.4554  3999.5693  3966.0658  3989.2979  19.517424   \n",
       "2024-11-22  3984.2435  3990.2647  3865.6989  3865.6989  18.381550   \n",
       "2024-11-25  3875.6126  3889.7069  3812.3179  3848.0909  18.301068   \n",
       "2024-11-26  3836.2590  3875.2290  3833.2842  3840.1847  17.639532   \n",
       "2024-11-27  3829.3442  3907.1640  3817.9125  3907.0447  18.412745   \n",
       "2024-11-28  3904.2525  3908.3918  3866.0136  3872.5505  19.080605   \n",
       "\n",
       "                  VOLUME           AMT    TURN  TOTAL_SHARES  \\\n",
       "2024-11-15  2.473995e+10  4.740797e+11  0.7825  4.176265e+12   \n",
       "2024-11-18  3.067779e+10  4.724081e+11  0.9700  4.176301e+12   \n",
       "2024-11-19  2.429465e+10  4.026110e+11  0.7682  4.176399e+12   \n",
       "2024-11-20  1.845994e+10  3.475777e+11  0.5837  4.176399e+12   \n",
       "2024-11-21  1.661259e+10  3.242350e+11  0.5253  4.176406e+12   \n",
       "2024-11-22  2.162858e+10  3.975668e+11  0.6838  4.176564e+12   \n",
       "2024-11-25  1.907030e+10  3.490068e+11  0.6029  4.176564e+12   \n",
       "2024-11-26  1.498924e+10  2.644033e+11  0.4739  4.176564e+12   \n",
       "2024-11-27  1.741361e+10  3.206324e+11  0.5506  4.176606e+12   \n",
       "2024-11-28  1.501173e+10  2.864329e+11  0.4746  4.176610e+12   \n",
       "\n",
       "            FREE_FLOAT_SHARES   MKT_CAP_ARD  MKT_FREESHARES   PE_TTM  \\\n",
       "2024-11-15       1.081900e+12  5.601519e+13    1.841688e+13  12.6125   \n",
       "2024-11-18       1.082255e+12  5.606742e+13    1.833053e+13  12.6243   \n",
       "2024-11-19       1.082352e+12  5.620348e+13    1.846109e+13  12.6549   \n",
       "2024-11-20       1.082413e+12  5.629713e+13    1.909953e+13  12.6760   \n",
       "2024-11-21       1.082398e+12  5.630960e+13    1.911438e+13  12.6788   \n",
       "2024-11-22       1.082557e+12  5.479193e+13    1.852963e+13  12.3371   \n",
       "2024-11-25       1.083107e+12  5.464003e+13    1.844328e+13  12.3029   \n",
       "2024-11-26       1.083104e+12  5.469686e+13    1.840698e+13  12.3157   \n",
       "2024-11-27       1.082974e+12  5.551373e+13    1.872933e+13  12.4996   \n",
       "2024-11-28       1.082977e+12  5.510042e+13    1.857137e+13  12.4066   \n",
       "\n",
       "            VAL_PB_WGT  DIVIDENDYIELD2  \n",
       "2024-11-15      1.3398          2.9679  \n",
       "2024-11-18      1.3411          2.9685  \n",
       "2024-11-19      1.3443          2.9584  \n",
       "2024-11-20      1.3465          2.9522  \n",
       "2024-11-21      1.3469          2.9544  \n",
       "2024-11-22      1.3105          3.0421  \n",
       "2024-11-25      1.3070          3.0468  \n",
       "2024-11-26      1.3084          3.0472  \n",
       "2024-11-27      1.3278          2.9998  \n",
       "2024-11-28      1.3180          3.0338  "
      ]
     },
     "execution_count": 56,
     "metadata": {},
     "output_type": "execute_result"
    }
   ],
   "source": [
    "data = data[INDEX_DATA['000300.SH'].index[-4]:]\n",
    "temp.head(10)"
   ]
  },
  {
   "cell_type": "code",
   "execution_count": 75,
   "id": "7b28b8f6-246a-498e-b7e9-d4a984f143fe",
   "metadata": {},
   "outputs": [],
   "source": [
    "INDEX_DATA[ticker] = data"
   ]
  },
  {
   "cell_type": "code",
   "execution_count": 73,
   "id": "4c2eb327-4669-4ca0-9918-5d4ac78eeed9",
   "metadata": {},
   "outputs": [
    {
     "data": {
      "text/plain": [
       "'000001.SH'"
      ]
     },
     "execution_count": 73,
     "metadata": {},
     "output_type": "execute_result"
    }
   ],
   "source": [
    "ticker"
   ]
  },
  {
   "cell_type": "markdown",
   "id": "2bda49e8-5fae-4985-8e05-69ba1cfe171f",
   "metadata": {},
   "source": [
    "# Download New Tickers"
   ]
  },
  {
   "cell_type": "code",
   "execution_count": 3,
   "id": "636a3033-4c5f-40ef-a410-5f2616b06bf2",
   "metadata": {},
   "outputs": [
    {
     "name": "stdout",
     "output_type": "stream",
     "text": [
      "000001.SH\n",
      "000300.SH\n",
      "000905.SH\n",
      "000688.SH\n",
      "000852.SH\n",
      "000016.SH\n",
      "932000.CSI\n",
      "000906.SH\n",
      "000922.CSI\n",
      "000015.SH\n",
      "930050.CSI\n",
      "000698.SH\n",
      "399997.SZ\n",
      "399989.SZ\n",
      "399975.SZ\n",
      "000985.CSI\n",
      "399300.SZ\n",
      "931151.CSI\n",
      "931643.CSI\n",
      "399986.SZ\n",
      "399967.SZ\n",
      "930955.CSI\n",
      "000903.SH\n",
      "000819.SH\n",
      "930707.CSI\n",
      "399998.SZ\n",
      "000932.SH\n",
      "399808.SZ\n",
      "399971.SZ\n",
      "000991.SH\n",
      "931468.CSI\n",
      "399976.SZ\n",
      "000933.SH\n",
      "399959.SZ\n",
      "930901.CSI\n",
      "931775.CSI\n",
      "930641.CSI\n",
      "931238.CSI\n",
      "000010.SH\n",
      "931160.CSI\n",
      "399995.SZ\n",
      "000685.SH\n",
      "000009.SH\n",
      "930713.CSI\n",
      "000807.CSI\n",
      "000998.CSI\n",
      "000919.CSI\n",
      "000941.CSI\n",
      "931446.CSI\n",
      "931071.CSI\n",
      "930997.CSI\n",
      "000993.SH\n",
      "930697.CSI\n",
      "000827.SH\n",
      "931152.CSI\n",
      "000949.CSI\n",
      "931494.CSI\n",
      "930851.CSI\n",
      "931052.CSI\n",
      "000979.CSI\n"
     ]
    },
    {
     "ename": "KeyError",
     "evalue": "'PE_TTM'",
     "output_type": "error",
     "traceback": [
      "\u001b[1;31m---------------------------------------------------------------------------\u001b[0m",
      "\u001b[1;31mKeyError\u001b[0m                                  Traceback (most recent call last)",
      "File \u001b[1;32m~\\AppData\\Local\\Programs\\Python\\Python311\\Lib\\site-packages\\pandas\\core\\indexes\\base.py:3790\u001b[0m, in \u001b[0;36mIndex.get_loc\u001b[1;34m(self, key)\u001b[0m\n\u001b[0;32m   3789\u001b[0m \u001b[38;5;28;01mtry\u001b[39;00m:\n\u001b[1;32m-> 3790\u001b[0m     \u001b[38;5;28;01mreturn\u001b[39;00m \u001b[38;5;28;43mself\u001b[39;49m\u001b[38;5;241;43m.\u001b[39;49m\u001b[43m_engine\u001b[49m\u001b[38;5;241;43m.\u001b[39;49m\u001b[43mget_loc\u001b[49m\u001b[43m(\u001b[49m\u001b[43mcasted_key\u001b[49m\u001b[43m)\u001b[49m\n\u001b[0;32m   3791\u001b[0m \u001b[38;5;28;01mexcept\u001b[39;00m \u001b[38;5;167;01mKeyError\u001b[39;00m \u001b[38;5;28;01mas\u001b[39;00m err:\n",
      "File \u001b[1;32mindex.pyx:152\u001b[0m, in \u001b[0;36mpandas._libs.index.IndexEngine.get_loc\u001b[1;34m()\u001b[0m\n",
      "File \u001b[1;32mindex.pyx:181\u001b[0m, in \u001b[0;36mpandas._libs.index.IndexEngine.get_loc\u001b[1;34m()\u001b[0m\n",
      "File \u001b[1;32mpandas\\_libs\\hashtable_class_helper.pxi:7080\u001b[0m, in \u001b[0;36mpandas._libs.hashtable.PyObjectHashTable.get_item\u001b[1;34m()\u001b[0m\n",
      "File \u001b[1;32mpandas\\_libs\\hashtable_class_helper.pxi:7088\u001b[0m, in \u001b[0;36mpandas._libs.hashtable.PyObjectHashTable.get_item\u001b[1;34m()\u001b[0m\n",
      "\u001b[1;31mKeyError\u001b[0m: 'PE_TTM'",
      "\nThe above exception was the direct cause of the following exception:\n",
      "\u001b[1;31mKeyError\u001b[0m                                  Traceback (most recent call last)",
      "Cell \u001b[1;32mIn[3], line 13\u001b[0m\n\u001b[0;32m     10\u001b[0m data \u001b[38;5;241m=\u001b[39m w\u001b[38;5;241m.\u001b[39mwsd(index, params, INDEX_START[index], \u001b[38;5;124m\"\u001b[39m\u001b[38;5;124m2024-11-20\u001b[39m\u001b[38;5;124m\"\u001b[39m, \u001b[38;5;124m\"\u001b[39m\u001b[38;5;124m\"\u001b[39m, \u001b[38;5;124m\"\u001b[39m\u001b[38;5;124munit=1;traderType=1;Fill=Previous\u001b[39m\u001b[38;5;124m\"\u001b[39m, usedf \u001b[38;5;241m=\u001b[39m \u001b[38;5;28;01mTrue\u001b[39;00m)[\u001b[38;5;241m1\u001b[39m]\n\u001b[0;32m     12\u001b[0m \u001b[38;5;66;03m# Try to fetch a column. Error if data was not acquired \u001b[39;00m\n\u001b[1;32m---> 13\u001b[0m junk \u001b[38;5;241m=\u001b[39m \u001b[43mdata\u001b[49m\u001b[43m[\u001b[49m\u001b[38;5;124;43m'\u001b[39;49m\u001b[38;5;124;43mPE_TTM\u001b[39;49m\u001b[38;5;124;43m'\u001b[39;49m\u001b[43m]\u001b[49m\n\u001b[0;32m     15\u001b[0m INDEX_DATA[index] \u001b[38;5;241m=\u001b[39m data\u001b[38;5;241m.\u001b[39mcopy(deep \u001b[38;5;241m=\u001b[39m \u001b[38;5;28;01mTrue\u001b[39;00m)\n",
      "File \u001b[1;32m~\\AppData\\Local\\Programs\\Python\\Python311\\Lib\\site-packages\\pandas\\core\\frame.py:3893\u001b[0m, in \u001b[0;36mDataFrame.__getitem__\u001b[1;34m(self, key)\u001b[0m\n\u001b[0;32m   3891\u001b[0m \u001b[38;5;28;01mif\u001b[39;00m \u001b[38;5;28mself\u001b[39m\u001b[38;5;241m.\u001b[39mcolumns\u001b[38;5;241m.\u001b[39mnlevels \u001b[38;5;241m>\u001b[39m \u001b[38;5;241m1\u001b[39m:\n\u001b[0;32m   3892\u001b[0m     \u001b[38;5;28;01mreturn\u001b[39;00m \u001b[38;5;28mself\u001b[39m\u001b[38;5;241m.\u001b[39m_getitem_multilevel(key)\n\u001b[1;32m-> 3893\u001b[0m indexer \u001b[38;5;241m=\u001b[39m \u001b[38;5;28;43mself\u001b[39;49m\u001b[38;5;241;43m.\u001b[39;49m\u001b[43mcolumns\u001b[49m\u001b[38;5;241;43m.\u001b[39;49m\u001b[43mget_loc\u001b[49m\u001b[43m(\u001b[49m\u001b[43mkey\u001b[49m\u001b[43m)\u001b[49m\n\u001b[0;32m   3894\u001b[0m \u001b[38;5;28;01mif\u001b[39;00m is_integer(indexer):\n\u001b[0;32m   3895\u001b[0m     indexer \u001b[38;5;241m=\u001b[39m [indexer]\n",
      "File \u001b[1;32m~\\AppData\\Local\\Programs\\Python\\Python311\\Lib\\site-packages\\pandas\\core\\indexes\\base.py:3797\u001b[0m, in \u001b[0;36mIndex.get_loc\u001b[1;34m(self, key)\u001b[0m\n\u001b[0;32m   3792\u001b[0m     \u001b[38;5;28;01mif\u001b[39;00m \u001b[38;5;28misinstance\u001b[39m(casted_key, \u001b[38;5;28mslice\u001b[39m) \u001b[38;5;129;01mor\u001b[39;00m (\n\u001b[0;32m   3793\u001b[0m         \u001b[38;5;28misinstance\u001b[39m(casted_key, abc\u001b[38;5;241m.\u001b[39mIterable)\n\u001b[0;32m   3794\u001b[0m         \u001b[38;5;129;01mand\u001b[39;00m \u001b[38;5;28many\u001b[39m(\u001b[38;5;28misinstance\u001b[39m(x, \u001b[38;5;28mslice\u001b[39m) \u001b[38;5;28;01mfor\u001b[39;00m x \u001b[38;5;129;01min\u001b[39;00m casted_key)\n\u001b[0;32m   3795\u001b[0m     ):\n\u001b[0;32m   3796\u001b[0m         \u001b[38;5;28;01mraise\u001b[39;00m InvalidIndexError(key)\n\u001b[1;32m-> 3797\u001b[0m     \u001b[38;5;28;01mraise\u001b[39;00m \u001b[38;5;167;01mKeyError\u001b[39;00m(key) \u001b[38;5;28;01mfrom\u001b[39;00m \u001b[38;5;21;01merr\u001b[39;00m\n\u001b[0;32m   3798\u001b[0m \u001b[38;5;28;01mexcept\u001b[39;00m \u001b[38;5;167;01mTypeError\u001b[39;00m:\n\u001b[0;32m   3799\u001b[0m     \u001b[38;5;66;03m# If we have a listlike key, _check_indexing_error will raise\u001b[39;00m\n\u001b[0;32m   3800\u001b[0m     \u001b[38;5;66;03m#  InvalidIndexError. Otherwise we fall through and re-raise\u001b[39;00m\n\u001b[0;32m   3801\u001b[0m     \u001b[38;5;66;03m#  the TypeError.\u001b[39;00m\n\u001b[0;32m   3802\u001b[0m     \u001b[38;5;28mself\u001b[39m\u001b[38;5;241m.\u001b[39m_check_indexing_error(key)\n",
      "\u001b[1;31mKeyError\u001b[0m: 'PE_TTM'"
     ]
    }
   ],
   "source": [
    "params = \"\"\"open,high,low,close,vwap,volume,amt,turn,\n",
    "            total_shares,free_float_shares,mkt_cap_ard,mkt_freeshares,\n",
    "            pe_ttm,val_pb_wgt,dividendyield2\"\"\"\n",
    "\n",
    "for index in INDEXES:\n",
    "    print(index)\n",
    "    if index in INDEX_DATA: \n",
    "        continue\n",
    "\n",
    "    data = w.wsd(index, params, INDEX_START[index], \"2025-4-30\", \"\", \"unit=1;traderType=1;Fill=Previous\", usedf = True)[1]\n",
    "\n",
    "    # Try to fetch a column. Error if data was not acquired \n",
    "    junk = data['PE_TTM']\n",
    "\n",
    "    INDEX_DATA[index] = data.copy(deep = True)"
   ]
  },
  {
   "cell_type": "code",
   "execution_count": 6,
   "id": "937ffe4a",
   "metadata": {},
   "outputs": [
    {
     "data": {
      "text/plain": [
       "59"
      ]
     },
     "execution_count": 6,
     "metadata": {},
     "output_type": "execute_result"
    }
   ],
   "source": [
    "len(INDEX_DATA)"
   ]
  },
  {
   "cell_type": "code",
   "execution_count": 66,
   "id": "f69e39ce-2cfc-4ebc-962d-21140b6c5281",
   "metadata": {},
   "outputs": [],
   "source": [
    "for sheet, df in INDEX_DATA.items():\n",
    "    df.to_csv(f\"Data/{sheet}.csv\")"
   ]
  },
  {
   "cell_type": "code",
   "execution_count": 4,
   "id": "200841aa",
   "metadata": {},
   "outputs": [
    {
     "data": {
      "text/html": [
       "<div>\n",
       "<style scoped>\n",
       "    .dataframe tbody tr th:only-of-type {\n",
       "        vertical-align: middle;\n",
       "    }\n",
       "\n",
       "    .dataframe tbody tr th {\n",
       "        vertical-align: top;\n",
       "    }\n",
       "\n",
       "    .dataframe thead th {\n",
       "        text-align: right;\n",
       "    }\n",
       "</style>\n",
       "<table border=\"1\" class=\"dataframe\">\n",
       "  <thead>\n",
       "    <tr style=\"text-align: right;\">\n",
       "      <th></th>\n",
       "      <th>OUTMESSAGE</th>\n",
       "    </tr>\n",
       "  </thead>\n",
       "  <tbody>\n",
       "    <tr>\n",
       "      <th>0</th>\n",
       "      <td>CWSDService:: quota exceeded.</td>\n",
       "    </tr>\n",
       "  </tbody>\n",
       "</table>\n",
       "</div>"
      ],
      "text/plain": [
       "                      OUTMESSAGE\n",
       "0  CWSDService:: quota exceeded."
      ]
     },
     "execution_count": 4,
     "metadata": {},
     "output_type": "execute_result"
    }
   ],
   "source": [
    "data"
   ]
  },
  {
   "cell_type": "markdown",
   "id": "6c2d48a5-3bdc-4bd6-8f9e-3a56e42c7056",
   "metadata": {},
   "source": [
    "# Increment Data"
   ]
  },
  {
   "cell_type": "code",
   "execution_count": 43,
   "id": "fd5224f0",
   "metadata": {},
   "outputs": [
    {
     "data": {
      "text/plain": [
       "dict_keys(['000300.SH', '000001.SH'])"
      ]
     },
     "execution_count": 43,
     "metadata": {},
     "output_type": "execute_result"
    }
   ],
   "source": [
    "INDEX_DATA.keys()"
   ]
  },
  {
   "cell_type": "code",
   "execution_count": null,
   "id": "662b3a01-81cb-4243-a7a1-47a3ee1227ad",
   "metadata": {},
   "outputs": [],
   "source": []
  }
 ],
 "metadata": {
  "kernelspec": {
   "display_name": "Python 3 (ipykernel)",
   "language": "python",
   "name": "python3"
  },
  "language_info": {
   "codemirror_mode": {
    "name": "ipython",
    "version": 3
   },
   "file_extension": ".py",
   "mimetype": "text/x-python",
   "name": "python",
   "nbconvert_exporter": "python",
   "pygments_lexer": "ipython3",
   "version": "3.12.1"
  }
 },
 "nbformat": 4,
 "nbformat_minor": 5
}
