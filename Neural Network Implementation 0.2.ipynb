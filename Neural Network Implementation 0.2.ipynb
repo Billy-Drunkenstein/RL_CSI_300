{
  "cells": [
    {
      "cell_type": "code",
      "execution_count": 1,
      "id": "dd2f0d17-7cb0-4ee4-9f64-f8cdce7175f3",
      "metadata": {
        "id": "dd2f0d17-7cb0-4ee4-9f64-f8cdce7175f3"
      },
      "outputs": [],
      "source": [
        "import gym\n",
        "from gym import Env\n",
        "from gym.spaces import Discrete, Box\n",
        "import numpy as np\n",
        "import pandas as pd\n",
        "import plotly.graph_objects as go\n",
        "from sklearn.preprocessing import StandardScaler\n",
        "import random"
      ]
    },
    {
      "cell_type": "code",
      "source": [
        "import torch\n",
        "import torch.nn as nn\n",
        "import torch.nn.functional as F\n",
        "import torch.optim as optim\n",
        "import random"
      ],
      "metadata": {
        "id": "qTHEcVGCNU6x"
      },
      "id": "qTHEcVGCNU6x",
      "execution_count": 2,
      "outputs": []
    },
    {
      "cell_type": "code",
      "source": [
        "data = pd.read_csv('000300.SH.csv', index_col = 0, parse_dates = True)\n",
        "data.head()"
      ],
      "metadata": {
        "id": "y_tTEp-RNZo2"
      },
      "id": "y_tTEp-RNZo2",
      "execution_count": null,
      "outputs": []
    }
  ],
  "metadata": {
    "kernelspec": {
      "display_name": "Python 3",
      "name": "python3"
    },
    "language_info": {
      "codemirror_mode": {
        "name": "ipython",
        "version": 3
      },
      "file_extension": ".py",
      "mimetype": "text/x-python",
      "name": "python",
      "nbconvert_exporter": "python",
      "pygments_lexer": "ipython3",
      "version": "3.12.1"
    },
    "colab": {
      "provenance": [],
      "machine_shape": "hm",
      "gpuType": "A100"
    },
    "accelerator": "GPU"
  },
  "nbformat": 4,
  "nbformat_minor": 5
}